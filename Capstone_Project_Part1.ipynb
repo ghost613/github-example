{
 "cells": [
  {
   "cell_type": "markdown",
   "metadata": {
    "collapsed": true
   },
   "source": [
    "For this week, you will required to submit the following:\n",
    "\n",
    "    A description of the problem and a discussion of the background. (15 marks)\n",
    "    A description of the data and how it will be used to solve the problem. (15 marks)"
   ]
  },
  {
   "cell_type": "markdown",
   "metadata": {},
   "source": [
    "#### Clearly define a problem or an idea of your choice, where you would need to leverage the Foursquare location data to solve or execute. Remember that data science problems always target an audience and are meant to help a group of stakeholders solve a problem, so make sure that you explicitly describe your audience and why they would care about your problem.\n",
    "#### This submission will eventually become your Introduction/Business Problem section in your final report. So I recommend that you push the report (having your Introduction/Business Problem section only for now) to your Github repository and submit a link to it."
   ]
  },
  {
   "cell_type": "markdown",
   "metadata": {},
   "source": [
    "Quite often, when people eat out, they will usually prefer to have a certain type of food that are popular in that area.  For example, If I went to Japanese town in the city, I prefer to have Japanese food. Sometimes when I got there, there was a long queue. What I usually do is that I will drive to nearby Japanese restaurants that may have no or fewer waiting time.  In order to do so, I have to know which area has the most Japanese restaurants. If one is full I still have other choices. "
   ]
  },
  {
   "cell_type": "markdown",
   "metadata": {},
   "source": [
    "#### Describe the data that you will be using to solve the problem or execute your idea. Remember that you will need to use the Foursquare location data to solve the problem or execute your idea. You can absolutely use other datasets in combination with the Foursquare location data. So make sure that you provide adequate explanation and discussion, with examples, of the data that you will be using, even if it is only Foursquare location data.\n",
    "\n",
    "#### This submission will eventually become your Data section in your final report. So I recommend that you push the report (having your Data section) to your Github repository and submit a link to it."
   ]
  },
  {
   "cell_type": "markdown",
   "metadata": {},
   "source": [
    "First, I need to choose the city I am interested. If possible, I will get the neighborhood data from the web scraping.\n",
    "Then I need to get all the restaurants information within the location (within 5000 m) using foursquare API. \n",
    "After that I need rank the high frequent type of food and decide which I want to have.  \n",
    "I will use the map visualization to help to make it easiser to see the results.\n",
    "If I want to dive deeper, I can add the trending restaurant within that area and compare the ones on my list as well. Or I can get the population data and compare them with the results to see if the restaurants are correlated with the portion of the people lived in that area"
   ]
  },
  {
   "cell_type": "code",
   "execution_count": null,
   "metadata": {},
   "outputs": [],
   "source": []
  }
 ],
 "metadata": {
  "kernelspec": {
   "display_name": "Python 3.5",
   "language": "python",
   "name": "python3"
  },
  "language_info": {
   "codemirror_mode": {
    "name": "ipython",
    "version": 3
   },
   "file_extension": ".py",
   "mimetype": "text/x-python",
   "name": "python",
   "nbconvert_exporter": "python",
   "pygments_lexer": "ipython3",
   "version": "3.5.5"
  }
 },
 "nbformat": 4,
 "nbformat_minor": 1
}
